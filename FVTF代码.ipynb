{
 "cells": [
  {
   "cell_type": "code",
   "execution_count": 1,
   "id": "50817432",
   "metadata": {},
   "outputs": [],
   "source": [
    "import numpy as np\n",
    "import pandas as pd\n",
    "from tensorflow.keras.layers import *\n",
    "import tensorflow.keras.backend as K\n",
    "import matplotlib.pyplot as plt\n",
    "%matplotlib inline\n",
    "import tensorflow as tf\n",
    "from sklearn.preprocessing import LabelEncoder\n",
    "from tensorflow.keras.models import Model\n",
    "from tensorflow.keras.utils import plot_model\n",
    "from tensorflow.keras.callbacks import TensorBoard\n",
    "from tensorflow.keras import regularizers\n",
    "#import efficientnet.tfkeras as efn\n",
    "k=16"
   ]
  },
  {
   "cell_type": "code",
   "execution_count": 2,
   "id": "8da39ba5",
   "metadata": {},
   "outputs": [],
   "source": [
    "#读取数据集\n",
    "total_data=pd.read_pickle(\"1Mdataset.pkl\")"
   ]
  },
  {
   "cell_type": "code",
   "execution_count": 3,
   "id": "818d2375",
   "metadata": {},
   "outputs": [],
   "source": [
    "#历史行为图像\n",
    "hist_array=np.load('hist_array.npy')"
   ]
  },
  {
   "cell_type": "code",
   "execution_count": 4,
   "id": "c531f343",
   "metadata": {},
   "outputs": [
    {
     "data": {
      "text/plain": [
       "(723783, 3, 128)"
      ]
     },
     "execution_count": 4,
     "metadata": {},
     "output_type": "execute_result"
    }
   ],
   "source": [
    "#只取其中3张图像\n",
    "hist_array.shape"
   ]
  },
  {
   "cell_type": "code",
   "execution_count": 5,
   "id": "3b779bf8",
   "metadata": {},
   "outputs": [],
   "source": [
    "#目标物品图像\n",
    "target_array=np.load('target_img.npy')"
   ]
  },
  {
   "cell_type": "code",
   "execution_count": 6,
   "id": "5a17130f",
   "metadata": {},
   "outputs": [
    {
     "data": {
      "text/html": [
       "<div>\n",
       "<style scoped>\n",
       "    .dataframe tbody tr th:only-of-type {\n",
       "        vertical-align: middle;\n",
       "    }\n",
       "\n",
       "    .dataframe tbody tr th {\n",
       "        vertical-align: top;\n",
       "    }\n",
       "\n",
       "    .dataframe thead th {\n",
       "        text-align: right;\n",
       "    }\n",
       "</style>\n",
       "<table border=\"1\" class=\"dataframe\">\n",
       "  <thead>\n",
       "    <tr style=\"text-align: right;\">\n",
       "      <th></th>\n",
       "      <th>UserID</th>\n",
       "      <th>MovieID</th>\n",
       "      <th>Rating</th>\n",
       "      <th>timestamps</th>\n",
       "      <th>Gender</th>\n",
       "      <th>Age</th>\n",
       "      <th>OccupationID</th>\n",
       "      <th>Zip-code</th>\n",
       "      <th>Title</th>\n",
       "      <th>Genres</th>\n",
       "      <th>style1</th>\n",
       "      <th>style2</th>\n",
       "      <th>style3</th>\n",
       "      <th>time</th>\n",
       "      <th>history</th>\n",
       "    </tr>\n",
       "  </thead>\n",
       "  <tbody>\n",
       "    <tr>\n",
       "      <th>0</th>\n",
       "      <td>1722</td>\n",
       "      <td>944</td>\n",
       "      <td>1</td>\n",
       "      <td>20.697645</td>\n",
       "      <td>1</td>\n",
       "      <td>3</td>\n",
       "      <td>0</td>\n",
       "      <td>2274</td>\n",
       "      <td>Shining, The (1980)</td>\n",
       "      <td>Horror</td>\n",
       "      <td>10</td>\n",
       "      <td>12</td>\n",
       "      <td>10</td>\n",
       "      <td>59</td>\n",
       "      <td>[1857, 415, 554, 1228, 2732, 2737, 2609, 1746,...</td>\n",
       "    </tr>\n",
       "    <tr>\n",
       "      <th>1</th>\n",
       "      <td>5999</td>\n",
       "      <td>1018</td>\n",
       "      <td>1</td>\n",
       "      <td>20.679154</td>\n",
       "      <td>0</td>\n",
       "      <td>2</td>\n",
       "      <td>1</td>\n",
       "      <td>1938</td>\n",
       "      <td>Cape Fear (1962)</td>\n",
       "      <td>Film-Noir|Thriller</td>\n",
       "      <td>9</td>\n",
       "      <td>15</td>\n",
       "      <td>10</td>\n",
       "      <td>41</td>\n",
       "      <td>[471, 934, 871, 2472, 714, 1515, 2189, 946, 16...</td>\n",
       "    </tr>\n",
       "    <tr>\n",
       "      <th>2</th>\n",
       "      <td>4308</td>\n",
       "      <td>1858</td>\n",
       "      <td>0</td>\n",
       "      <td>20.687909</td>\n",
       "      <td>1</td>\n",
       "      <td>2</td>\n",
       "      <td>0</td>\n",
       "      <td>1226</td>\n",
       "      <td>Blast from the Past (1999)</td>\n",
       "      <td>Comedy|Romance</td>\n",
       "      <td>4</td>\n",
       "      <td>13</td>\n",
       "      <td>10</td>\n",
       "      <td>78</td>\n",
       "      <td>[98, 517, 1421, 2798, 783, 369, 2772, 949, 277...</td>\n",
       "    </tr>\n",
       "    <tr>\n",
       "      <th>3</th>\n",
       "      <td>33</td>\n",
       "      <td>2323</td>\n",
       "      <td>1</td>\n",
       "      <td>20.702025</td>\n",
       "      <td>1</td>\n",
       "      <td>4</td>\n",
       "      <td>3</td>\n",
       "      <td>1915</td>\n",
       "      <td>Awakenings (1990)</td>\n",
       "      <td>Drama</td>\n",
       "      <td>7</td>\n",
       "      <td>12</td>\n",
       "      <td>10</td>\n",
       "      <td>69</td>\n",
       "      <td>[1280, 33, 2595, 1965, 1906, 1554, 1332, 1013,...</td>\n",
       "    </tr>\n",
       "    <tr>\n",
       "      <th>4</th>\n",
       "      <td>3732</td>\n",
       "      <td>2215</td>\n",
       "      <td>1</td>\n",
       "      <td>20.766544</td>\n",
       "      <td>1</td>\n",
       "      <td>2</td>\n",
       "      <td>17</td>\n",
       "      <td>2030</td>\n",
       "      <td>Crimes and Misdemeanors (1989)</td>\n",
       "      <td>Comedy</td>\n",
       "      <td>4</td>\n",
       "      <td>12</td>\n",
       "      <td>10</td>\n",
       "      <td>68</td>\n",
       "      <td>[901, 198, 2215, 680, 265, 303, 725, 2838, 726...</td>\n",
       "    </tr>\n",
       "    <tr>\n",
       "      <th>...</th>\n",
       "      <td>...</td>\n",
       "      <td>...</td>\n",
       "      <td>...</td>\n",
       "      <td>...</td>\n",
       "      <td>...</td>\n",
       "      <td>...</td>\n",
       "      <td>...</td>\n",
       "      <td>...</td>\n",
       "      <td>...</td>\n",
       "      <td>...</td>\n",
       "      <td>...</td>\n",
       "      <td>...</td>\n",
       "      <td>...</td>\n",
       "      <td>...</td>\n",
       "      <td>...</td>\n",
       "    </tr>\n",
       "    <tr>\n",
       "      <th>723778</th>\n",
       "      <td>1835</td>\n",
       "      <td>1758</td>\n",
       "      <td>1</td>\n",
       "      <td>20.697823</td>\n",
       "      <td>1</td>\n",
       "      <td>2</td>\n",
       "      <td>19</td>\n",
       "      <td>493</td>\n",
       "      <td>Money Pit, The (1986)</td>\n",
       "      <td>Comedy</td>\n",
       "      <td>4</td>\n",
       "      <td>12</td>\n",
       "      <td>10</td>\n",
       "      <td>65</td>\n",
       "      <td>[1408, 547, 2213, 2344, 782, 817, 983, 1049, 5...</td>\n",
       "    </tr>\n",
       "    <tr>\n",
       "      <th>723779</th>\n",
       "      <td>5572</td>\n",
       "      <td>2685</td>\n",
       "      <td>1</td>\n",
       "      <td>20.681717</td>\n",
       "      <td>0</td>\n",
       "      <td>2</td>\n",
       "      <td>4</td>\n",
       "      <td>2146</td>\n",
       "      <td>Man with the Golden Gun, The (1974)</td>\n",
       "      <td>Action</td>\n",
       "      <td>0</td>\n",
       "      <td>12</td>\n",
       "      <td>10</td>\n",
       "      <td>53</td>\n",
       "      <td>[2242, 517, 264, 682, 458, 686, 913, 274, 885,...</td>\n",
       "    </tr>\n",
       "    <tr>\n",
       "      <th>723780</th>\n",
       "      <td>5364</td>\n",
       "      <td>469</td>\n",
       "      <td>1</td>\n",
       "      <td>20.682989</td>\n",
       "      <td>0</td>\n",
       "      <td>2</td>\n",
       "      <td>3</td>\n",
       "      <td>1903</td>\n",
       "      <td>Sleepless in Seattle (1993)</td>\n",
       "      <td>Comedy|Romance</td>\n",
       "      <td>4</td>\n",
       "      <td>13</td>\n",
       "      <td>10</td>\n",
       "      <td>72</td>\n",
       "      <td>[1729, 2435, 1156, 1771, 1485, 1778, 660, 696,...</td>\n",
       "    </tr>\n",
       "    <tr>\n",
       "      <th>723781</th>\n",
       "      <td>4055</td>\n",
       "      <td>113</td>\n",
       "      <td>0</td>\n",
       "      <td>20.688149</td>\n",
       "      <td>1</td>\n",
       "      <td>5</td>\n",
       "      <td>0</td>\n",
       "      <td>3416</td>\n",
       "      <td>Down Periscope (1996)</td>\n",
       "      <td>Comedy</td>\n",
       "      <td>4</td>\n",
       "      <td>12</td>\n",
       "      <td>10</td>\n",
       "      <td>75</td>\n",
       "      <td>[76, 15, 497, 1715, 52, 822, 342, 505, 1243, 669]</td>\n",
       "    </tr>\n",
       "    <tr>\n",
       "      <th>723782</th>\n",
       "      <td>4825</td>\n",
       "      <td>1168</td>\n",
       "      <td>1</td>\n",
       "      <td>20.685475</td>\n",
       "      <td>1</td>\n",
       "      <td>2</td>\n",
       "      <td>17</td>\n",
       "      <td>3116</td>\n",
       "      <td>Men in Black (1997)</td>\n",
       "      <td>Action|Adventure|Comedy|Sci-Fi</td>\n",
       "      <td>0</td>\n",
       "      <td>0</td>\n",
       "      <td>2</td>\n",
       "      <td>76</td>\n",
       "      <td>[99, 1958, 1510, 2057, 1674, 1168, 20, 1143, 2...</td>\n",
       "    </tr>\n",
       "  </tbody>\n",
       "</table>\n",
       "<p>723783 rows × 15 columns</p>\n",
       "</div>"
      ],
      "text/plain": [
       "        UserID  MovieID  Rating  timestamps  Gender  Age  OccupationID  \\\n",
       "0         1722      944       1   20.697645       1    3             0   \n",
       "1         5999     1018       1   20.679154       0    2             1   \n",
       "2         4308     1858       0   20.687909       1    2             0   \n",
       "3           33     2323       1   20.702025       1    4             3   \n",
       "4         3732     2215       1   20.766544       1    2            17   \n",
       "...        ...      ...     ...         ...     ...  ...           ...   \n",
       "723778    1835     1758       1   20.697823       1    2            19   \n",
       "723779    5572     2685       1   20.681717       0    2             4   \n",
       "723780    5364      469       1   20.682989       0    2             3   \n",
       "723781    4055      113       0   20.688149       1    5             0   \n",
       "723782    4825     1168       1   20.685475       1    2            17   \n",
       "\n",
       "        Zip-code                                Title  \\\n",
       "0           2274                  Shining, The (1980)   \n",
       "1           1938                     Cape Fear (1962)   \n",
       "2           1226           Blast from the Past (1999)   \n",
       "3           1915                    Awakenings (1990)   \n",
       "4           2030       Crimes and Misdemeanors (1989)   \n",
       "...          ...                                  ...   \n",
       "723778       493                Money Pit, The (1986)   \n",
       "723779      2146  Man with the Golden Gun, The (1974)   \n",
       "723780      1903          Sleepless in Seattle (1993)   \n",
       "723781      3416                Down Periscope (1996)   \n",
       "723782      3116                  Men in Black (1997)   \n",
       "\n",
       "                                Genres  style1  style2  style3  time  \\\n",
       "0                               Horror      10      12      10    59   \n",
       "1                   Film-Noir|Thriller       9      15      10    41   \n",
       "2                       Comedy|Romance       4      13      10    78   \n",
       "3                                Drama       7      12      10    69   \n",
       "4                               Comedy       4      12      10    68   \n",
       "...                                ...     ...     ...     ...   ...   \n",
       "723778                          Comedy       4      12      10    65   \n",
       "723779                          Action       0      12      10    53   \n",
       "723780                  Comedy|Romance       4      13      10    72   \n",
       "723781                          Comedy       4      12      10    75   \n",
       "723782  Action|Adventure|Comedy|Sci-Fi       0       0       2    76   \n",
       "\n",
       "                                                  history  \n",
       "0       [1857, 415, 554, 1228, 2732, 2737, 2609, 1746,...  \n",
       "1       [471, 934, 871, 2472, 714, 1515, 2189, 946, 16...  \n",
       "2       [98, 517, 1421, 2798, 783, 369, 2772, 949, 277...  \n",
       "3       [1280, 33, 2595, 1965, 1906, 1554, 1332, 1013,...  \n",
       "4       [901, 198, 2215, 680, 265, 303, 725, 2838, 726...  \n",
       "...                                                   ...  \n",
       "723778  [1408, 547, 2213, 2344, 782, 817, 983, 1049, 5...  \n",
       "723779  [2242, 517, 264, 682, 458, 686, 913, 274, 885,...  \n",
       "723780  [1729, 2435, 1156, 1771, 1485, 1778, 660, 696,...  \n",
       "723781  [76, 15, 497, 1715, 52, 822, 342, 505, 1243, 669]  \n",
       "723782  [99, 1958, 1510, 2057, 1674, 1168, 20, 1143, 2...  \n",
       "\n",
       "[723783 rows x 15 columns]"
      ]
     },
     "execution_count": 6,
     "metadata": {},
     "output_type": "execute_result"
    }
   ],
   "source": [
    "total_data"
   ]
  },
  {
   "cell_type": "code",
   "execution_count": 7,
   "id": "71699eb4",
   "metadata": {},
   "outputs": [
    {
     "name": "stdout",
     "output_type": "stream",
     "text": [
      "(723783, 3, 128)\n",
      "(723783, 1, 128)\n"
     ]
    }
   ],
   "source": [
    "print(hist_array.shape)\n",
    "print(target_array.shape)"
   ]
  },
  {
   "cell_type": "code",
   "execution_count": 8,
   "id": "5b4c14b5",
   "metadata": {},
   "outputs": [],
   "source": [
    "#u_input = Input([4,])\n",
    "#u_input[:,3]"
   ]
  },
  {
   "cell_type": "code",
   "execution_count": 9,
   "id": "3af66a42",
   "metadata": {},
   "outputs": [],
   "source": [
    "#u_input.shape[1]"
   ]
  },
  {
   "cell_type": "code",
   "execution_count": 10,
   "id": "4d3d786f",
   "metadata": {},
   "outputs": [],
   "source": [
    "#for i in range(u_input.shape[1]):\n",
    "#    print(i)"
   ]
  },
  {
   "cell_type": "code",
   "execution_count": 11,
   "id": "c8c4e54b",
   "metadata": {},
   "outputs": [
    {
     "name": "stdout",
     "output_type": "stream",
     "text": [
      "Gender\n",
      "2\n",
      "Tensor(\"ExpandDims:0\", shape=(None, 1, 16), dtype=float32)\n",
      "Age\n",
      "7\n",
      "Tensor(\"ExpandDims_1:0\", shape=(None, 1, 16), dtype=float32)\n",
      "OccupationID\n",
      "21\n",
      "Tensor(\"ExpandDims_2:0\", shape=(None, 1, 16), dtype=float32)\n",
      "Zip-code\n",
      "3439\n",
      "Tensor(\"ExpandDims_3:0\", shape=(None, 1, 16), dtype=float32)\n"
     ]
    }
   ],
   "source": [
    "#用户侧输入处理\n",
    "user_feats=['Gender','Age','OccupationID','Zip-code']\n",
    "u_input = Input([4,])\n",
    "user_kd_embed = []\n",
    "for i in range(u_input.shape[1]):\n",
    "    f = user_feats[i]\n",
    "    print(f)\n",
    "    voc_size = total_data[f].nunique()\n",
    "    print(voc_size)\n",
    "    _embed = Embedding(voc_size+1, k,embeddings_regularizer=regularizers.l2(0.0001))(u_input[:,i])\n",
    "    _embed=tf.expand_dims(_embed,1)\n",
    "    user_kd_embed.append(_embed)\n",
    "    print(_embed)\n",
    "tu=user_kd_embed"
   ]
  },
  {
   "cell_type": "code",
   "execution_count": 12,
   "id": "0f872c05",
   "metadata": {},
   "outputs": [
    {
     "data": {
      "text/plain": [
       "[<tf.Tensor 'ExpandDims:0' shape=(None, 1, 16) dtype=float32>,\n",
       " <tf.Tensor 'ExpandDims_1:0' shape=(None, 1, 16) dtype=float32>,\n",
       " <tf.Tensor 'ExpandDims_2:0' shape=(None, 1, 16) dtype=float32>,\n",
       " <tf.Tensor 'ExpandDims_3:0' shape=(None, 1, 16) dtype=float32>]"
      ]
     },
     "execution_count": 12,
     "metadata": {},
     "output_type": "execute_result"
    }
   ],
   "source": [
    "tu"
   ]
  },
  {
   "cell_type": "code",
   "execution_count": 13,
   "id": "3cb7327f",
   "metadata": {},
   "outputs": [
    {
     "data": {
      "text/plain": [
       "18"
      ]
     },
     "execution_count": 13,
     "metadata": {},
     "output_type": "execute_result"
    }
   ],
   "source": [
    "total_data['style1'].nunique()"
   ]
  },
  {
   "cell_type": "code",
   "execution_count": 14,
   "id": "9297d628",
   "metadata": {},
   "outputs": [
    {
     "name": "stdout",
     "output_type": "stream",
     "text": [
      "time\n",
      "190\n",
      "style1\n",
      "18\n",
      "style2\n",
      "18\n",
      "style3\n",
      "16\n"
     ]
    }
   ],
   "source": [
    "#项目侧输入处理\n",
    "item_feats=['time','style1','style2','style3']\n",
    "i_input = Input([4,])\n",
    "item_kd_embed = []\n",
    "for i in range(i_input.shape[1]):\n",
    "    f = item_feats[i]\n",
    "    print(f)\n",
    "    voc_size = total_data[f].nunique()\n",
    "    print(voc_size)\n",
    "    _embed = Embedding(voc_size+1, k,embeddings_regularizer=regularizers.l2(0.0001))(i_input[:,i])\n",
    "    _embed=tf.expand_dims(_embed,1)\n",
    "    item_kd_embed.append(_embed)\n",
    "temp=Add()([item_kd_embed[1],item_kd_embed[2],item_kd_embed[3]])\n",
    "temp=temp/3\n",
    "i_embed=[item_kd_embed[0],temp]\n",
    "ti=i_embed\n",
    "#target_id=item_inputs[0]"
   ]
  },
  {
   "cell_type": "code",
   "execution_count": 15,
   "id": "1f9703e4",
   "metadata": {},
   "outputs": [
    {
     "data": {
      "text/plain": [
       "[<tf.Tensor 'ExpandDims_4:0' shape=(None, 1, 16) dtype=float32>,\n",
       " <tf.Tensor 'truediv:0' shape=(None, 1, 16) dtype=float32>]"
      ]
     },
     "execution_count": 15,
     "metadata": {},
     "output_type": "execute_result"
    }
   ],
   "source": [
    "ti"
   ]
  },
  {
   "cell_type": "code",
   "execution_count": 16,
   "id": "1a22277d",
   "metadata": {},
   "outputs": [],
   "source": [
    "#tt=tu+ti"
   ]
  },
  {
   "cell_type": "code",
   "execution_count": 17,
   "id": "fb451cc4",
   "metadata": {},
   "outputs": [],
   "source": [
    "tu=Concatenate(axis=1)(tu)\n",
    "ti=Concatenate(axis=1)(ti)"
   ]
  },
  {
   "cell_type": "code",
   "execution_count": 18,
   "id": "a938498b",
   "metadata": {},
   "outputs": [
    {
     "data": {
      "text/plain": [
       "<tf.Tensor 'concatenate/Identity:0' shape=(None, 4, 16) dtype=float32>"
      ]
     },
     "execution_count": 18,
     "metadata": {},
     "output_type": "execute_result"
    }
   ],
   "source": [
    "tu"
   ]
  },
  {
   "cell_type": "code",
   "execution_count": 19,
   "id": "5e3a2127",
   "metadata": {},
   "outputs": [
    {
     "data": {
      "text/plain": [
       "<tf.Tensor 'concatenate_1/Identity:0' shape=(None, 2, 16) dtype=float32>"
      ]
     },
     "execution_count": 19,
     "metadata": {},
     "output_type": "execute_result"
    }
   ],
   "source": [
    "ti"
   ]
  },
  {
   "cell_type": "code",
   "execution_count": 20,
   "id": "dd3b6f1d",
   "metadata": {},
   "outputs": [],
   "source": [
    "#用户历史图像序列\n",
    "hist_inputs = Input([3,128], name='hist_img')"
   ]
  },
  {
   "cell_type": "code",
   "execution_count": 21,
   "id": "dbf0c038",
   "metadata": {},
   "outputs": [],
   "source": [
    "#目标图片\n",
    "target_img = Input([1,128], name='target_img')"
   ]
  },
  {
   "cell_type": "code",
   "execution_count": 22,
   "id": "6719b15a",
   "metadata": {},
   "outputs": [
    {
     "data": {
      "text/plain": [
       "<tf.Tensor 'target_img:0' shape=(None, 1, 128) dtype=float32>"
      ]
     },
     "execution_count": 22,
     "metadata": {},
     "output_type": "execute_result"
    }
   ],
   "source": [
    "target_img"
   ]
  },
  {
   "cell_type": "markdown",
   "id": "0a12ba23",
   "metadata": {},
   "source": [
    "# 视觉偏好提取网络"
   ]
  },
  {
   "cell_type": "code",
   "execution_count": 23,
   "id": "c11fce72",
   "metadata": {},
   "outputs": [],
   "source": [
    "#生成Query、Key、Value向量\n",
    "class qkv(tf.keras.layers.Layer):\n",
    "    def __init__(self,d):\n",
    "        super(qkv,self).__init__() \n",
    "        self.d=d\n",
    "    def build(self,input_shape):\n",
    "        self.kernel=self.add_variable(shape=[input_shape[-1],self.d])\n",
    "    def call(self,input):\n",
    "        embed = tf.matmul(input, self.kernel)\n",
    "        return embed"
   ]
  },
  {
   "cell_type": "code",
   "execution_count": 24,
   "id": "7317cf6a",
   "metadata": {},
   "outputs": [],
   "source": [
    "#QKV注意力机制，目标物品图像的Q乘以用户历史行为序列中图像的K，算出注意力分数，并按照注意力分数对V进行池化\n",
    "def Image_TF(hist_embed,target_embed,d):\n",
    "    Q_net=qkv(d)\n",
    "    K_net=qkv(d)\n",
    "    V_net=qkv(d)\n",
    "    embed_q=Q_net(target_embed)\n",
    "    embed_k=K_net(hist_embed)\n",
    "    embed_v=V_net(hist_embed)\n",
    "    energy = tf.matmul(embed_q, tf.transpose(embed_k, [0, 2, 1]))\n",
    "    attention = Softmax(axis=-1)(energy)\n",
    "    attention_output = tf.matmul(attention, embed_v)\n",
    "    output=LeakyReLU()(attention_output)\n",
    "    return output"
   ]
  },
  {
   "cell_type": "code",
   "execution_count": 25,
   "id": "9a417c5c",
   "metadata": {},
   "outputs": [
    {
     "name": "stdout",
     "output_type": "stream",
     "text": [
      "WARNING:tensorflow:From C:\\Users\\mechrevo\\AppData\\Local\\Temp/ipykernel_18796/980188167.py:6: Layer.add_variable (from tensorflow.python.keras.engine.base_layer) is deprecated and will be removed in a future version.\n",
      "Instructions for updating:\n",
      "Please use `layer.add_weight` method instead.\n"
     ]
    },
    {
     "data": {
      "text/plain": [
       "<tf.Tensor 'leaky_re_lu/Identity:0' shape=(None, 1, 16) dtype=float32>"
      ]
     },
     "execution_count": 25,
     "metadata": {},
     "output_type": "execute_result"
    }
   ],
   "source": [
    "#用户视觉偏好向量\n",
    "visual_performance=Image_TF(hist_inputs,target_img,16)\n",
    "visual_performance"
   ]
  },
  {
   "cell_type": "markdown",
   "id": "aac62f70",
   "metadata": {},
   "source": [
    "# 用户侧特征交叉"
   ]
  },
  {
   "cell_type": "code",
   "execution_count": 26,
   "id": "947af179",
   "metadata": {},
   "outputs": [],
   "source": [
    "user_map=Concatenate(axis=1)([tu,visual_performance])"
   ]
  },
  {
   "cell_type": "code",
   "execution_count": 27,
   "id": "1269a48a",
   "metadata": {},
   "outputs": [
    {
     "data": {
      "text/plain": [
       "<tf.Tensor 'concatenate_2/Identity:0' shape=(None, 5, 16) dtype=float32>"
      ]
     },
     "execution_count": 27,
     "metadata": {},
     "output_type": "execute_result"
    }
   ],
   "source": [
    "user_map"
   ]
  },
  {
   "cell_type": "code",
   "execution_count": 28,
   "id": "aef0ad6e",
   "metadata": {},
   "outputs": [],
   "source": [
    "#特征增强网络，将其投影到更高维度，增强特征向量表达能力\n",
    "class embed_net(tf.keras.layers.Layer):\n",
    "    def __init__(self,d):\n",
    "        super(embed_net,self).__init__() \n",
    "        self.d=d\n",
    "    def build(self,input_shape):\n",
    "        self.kernel=self.add_variable(shape=[input_shape[-1],self.d])\n",
    "    def call(self,input):\n",
    "        embed = tf.matmul(input, self.kernel)\n",
    "        return embed"
   ]
  },
  {
   "cell_type": "code",
   "execution_count": 29,
   "id": "4c23a5ee",
   "metadata": {},
   "outputs": [],
   "source": [
    "#注意力网络\n",
    "class AFM(tf.keras.layers.Layer):\n",
    "    def __init__(self):\n",
    "        super(AFM,self).__init__() \n",
    "    def build(self,input_shape):\n",
    "        self.kernel=self.add_variable(shape=[input_shape[1],input_shape[2],input_shape[-1]])\n",
    "    def call(self,input):\n",
    "        embed = tf.multiply(input, self.kernel)\n",
    "        return embed"
   ]
  },
  {
   "cell_type": "code",
   "execution_count": 30,
   "id": "be08386c",
   "metadata": {},
   "outputs": [],
   "source": [
    "#特征融合与交互层\n",
    "def MAFM(embed_map,d,n_attention_head,temp_x0):\n",
    "    k =embed_map.shape[1]\n",
    "    embedl=embed_net(d)\n",
    "    embed_xl=embedl(embed_map)\n",
    "    attention_heads=[]\n",
    "    for i in range(n_attention_head):\n",
    "        AFM_net=AFM()\n",
    "        output= AFM_net(temp_x0)  \n",
    "        output=tf.reduce_sum(output,2)\n",
    "        output=Reshape(target_shape=(k,d))(output) \n",
    "        output=tf.multiply(output,embed_xl)\n",
    "        attention_heads.append(output)\n",
    "    output=Concatenate(axis=-1)(attention_heads)  \n",
    "    output=Dense(d)(output)\n",
    "    output=LeakyReLU()(output)\n",
    "    return output"
   ]
  },
  {
   "cell_type": "code",
   "execution_count": 31,
   "id": "0b74cfc2",
   "metadata": {},
   "outputs": [],
   "source": [
    "#创建多层特征融合与交互层，并将记录每层输出\n",
    "def build_MAFM(x0, n_layers,d,n_head):\n",
    "    k =x0.shape[1]\n",
    "    temp_x0=[]\n",
    "    x0_net=embed_net(d)\n",
    "    new_x0=x0_net(x0)\n",
    "    #x0=new_x0\n",
    "    for i in range(k): \n",
    "        temp=Reshape(target_shape=(1,k,d))(new_x0)\n",
    "        temp_x0.append(temp)\n",
    "    temp_x0=Concatenate(axis=1)(temp_x0)\n",
    "    xl = x0\n",
    "    out=[]\n",
    "    for i in range(n_layers):\n",
    "        xl = MAFM(xl,d,n_head,temp_x0)\n",
    "        out.append(xl)\n",
    "    out=Concatenate(axis=1)(out)\n",
    "    return out"
   ]
  },
  {
   "cell_type": "code",
   "execution_count": 32,
   "id": "86307293",
   "metadata": {},
   "outputs": [],
   "source": [
    "uu=build_MAFM(user_map,3,24,2)"
   ]
  },
  {
   "cell_type": "code",
   "execution_count": 33,
   "id": "a289e931",
   "metadata": {},
   "outputs": [
    {
     "data": {
      "text/plain": [
       "<tf.Tensor 'concatenate_7/Identity:0' shape=(None, 15, 24) dtype=float32>"
      ]
     },
     "execution_count": 33,
     "metadata": {},
     "output_type": "execute_result"
    }
   ],
   "source": [
    "#用户侧特征高阶注意力融合表示\n",
    "uu"
   ]
  },
  {
   "cell_type": "markdown",
   "id": "ef1801dc",
   "metadata": {},
   "source": [
    "# 物品侧特征交叉"
   ]
  },
  {
   "cell_type": "code",
   "execution_count": 34,
   "id": "1bb560b6",
   "metadata": {},
   "outputs": [],
   "source": [
    "target_map=Dense(16,activation='relu')(target_img)"
   ]
  },
  {
   "cell_type": "code",
   "execution_count": 35,
   "id": "45b50595",
   "metadata": {},
   "outputs": [],
   "source": [
    "item_map=Concatenate(axis=1)([ti,target_map])"
   ]
  },
  {
   "cell_type": "code",
   "execution_count": 36,
   "id": "5d3f46b5",
   "metadata": {},
   "outputs": [
    {
     "data": {
      "text/plain": [
       "<tf.Tensor 'concatenate_8/Identity:0' shape=(None, 3, 16) dtype=float32>"
      ]
     },
     "execution_count": 36,
     "metadata": {},
     "output_type": "execute_result"
    }
   ],
   "source": [
    "item_map"
   ]
  },
  {
   "cell_type": "code",
   "execution_count": 37,
   "id": "330afa07",
   "metadata": {},
   "outputs": [],
   "source": [
    "ii=build_MAFM(item_map,3,24,2)"
   ]
  },
  {
   "cell_type": "code",
   "execution_count": 38,
   "id": "425bc259",
   "metadata": {},
   "outputs": [
    {
     "data": {
      "text/plain": [
       "<tf.Tensor 'concatenate_13/Identity:0' shape=(None, 9, 24) dtype=float32>"
      ]
     },
     "execution_count": 38,
     "metadata": {},
     "output_type": "execute_result"
    }
   ],
   "source": [
    "##项目侧特征高阶注意力融合表示\n",
    "ii"
   ]
  },
  {
   "cell_type": "markdown",
   "id": "34298ca8",
   "metadata": {},
   "source": [
    "# 输出层"
   ]
  },
  {
   "cell_type": "code",
   "execution_count": 39,
   "id": "71a6d6f2",
   "metadata": {},
   "outputs": [],
   "source": [
    "add=Concatenate(axis=1)([uu,ii])\n",
    "add=Flatten()(add)\n",
    "#add=Dense(512,activation='relu')(add)\n",
    "add=Dense(384)(add)\n",
    "add=tf.keras.layers.LeakyReLU()(add)\n",
    "#add=Dense(128,activation='relu')(add)\n",
    "#add=Dense(192,activation='relu')(add)\n",
    "#add=Dense(64,activation='relu')(add)\n",
    "#add=BatchNormalization()(add)\n",
    "#add=Dense(512,activation='relu')(add)\n",
    "#add=Dense(256,activation='relu',kernel_regularizer=regularizers.l2(0.0001))(add)\n",
    "#add=Dropout(256,activation='relu',)\n",
    "#add=Dense(128,activation='relu',kernel_regularizer=regularizers.l2(0.0001))(add)\n",
    "#add=Dense(64,activation='relu')(add)\n",
    "output_layer = Dense(1, activation='sigmoid')(add)\n",
    "#完成数据流，输入、输出\n",
    "model=Model([u_input,i_input,hist_inputs,target_img], output_layer)"
   ]
  },
  {
   "cell_type": "code",
   "execution_count": 40,
   "id": "8d411431",
   "metadata": {},
   "outputs": [
    {
     "name": "stdout",
     "output_type": "stream",
     "text": [
      "Model: \"model\"\n",
      "__________________________________________________________________________________________________\n",
      "Layer (type)                    Output Shape         Param #     Connected to                     \n",
      "==================================================================================================\n",
      "hist_img (InputLayer)           [(None, 3, 128)]     0                                            \n",
      "__________________________________________________________________________________________________\n",
      "input_2 (InputLayer)            [(None, 4)]          0                                            \n",
      "__________________________________________________________________________________________________\n",
      "target_img (InputLayer)         [(None, 1, 128)]     0                                            \n",
      "__________________________________________________________________________________________________\n",
      "qkv_1 (qkv)                     (None, 3, 16)        2048        hist_img[0][0]                   \n",
      "__________________________________________________________________________________________________\n",
      "tf_op_layer_strided_slice_5 (Te [(None,)]            0           input_2[0][0]                    \n",
      "__________________________________________________________________________________________________\n",
      "tf_op_layer_strided_slice_6 (Te [(None,)]            0           input_2[0][0]                    \n",
      "__________________________________________________________________________________________________\n",
      "tf_op_layer_strided_slice_7 (Te [(None,)]            0           input_2[0][0]                    \n",
      "__________________________________________________________________________________________________\n",
      "input_1 (InputLayer)            [(None, 4)]          0                                            \n",
      "__________________________________________________________________________________________________\n",
      "qkv (qkv)                       (None, 1, 16)        2048        target_img[0][0]                 \n",
      "__________________________________________________________________________________________________\n",
      "tf_op_layer_transpose (TensorFl [(None, 16, 3)]      0           qkv_1[0][0]                      \n",
      "__________________________________________________________________________________________________\n",
      "embedding_5 (Embedding)         (None, 16)           304         tf_op_layer_strided_slice_5[0][0]\n",
      "__________________________________________________________________________________________________\n",
      "embedding_6 (Embedding)         (None, 16)           304         tf_op_layer_strided_slice_6[0][0]\n",
      "__________________________________________________________________________________________________\n",
      "embedding_7 (Embedding)         (None, 16)           272         tf_op_layer_strided_slice_7[0][0]\n",
      "__________________________________________________________________________________________________\n",
      "tf_op_layer_strided_slice (Tens [(None,)]            0           input_1[0][0]                    \n",
      "__________________________________________________________________________________________________\n",
      "tf_op_layer_strided_slice_1 (Te [(None,)]            0           input_1[0][0]                    \n",
      "__________________________________________________________________________________________________\n",
      "tf_op_layer_strided_slice_2 (Te [(None,)]            0           input_1[0][0]                    \n",
      "__________________________________________________________________________________________________\n",
      "tf_op_layer_strided_slice_3 (Te [(None,)]            0           input_1[0][0]                    \n",
      "__________________________________________________________________________________________________\n",
      "tf_op_layer_MatMul (TensorFlowO [(None, 1, 3)]       0           qkv[0][0]                        \n",
      "                                                                 tf_op_layer_transpose[0][0]      \n",
      "__________________________________________________________________________________________________\n",
      "tf_op_layer_strided_slice_4 (Te [(None,)]            0           input_2[0][0]                    \n",
      "__________________________________________________________________________________________________\n",
      "tf_op_layer_ExpandDims_5 (Tenso [(None, 1, 16)]      0           embedding_5[0][0]                \n",
      "__________________________________________________________________________________________________\n",
      "tf_op_layer_ExpandDims_6 (Tenso [(None, 1, 16)]      0           embedding_6[0][0]                \n",
      "__________________________________________________________________________________________________\n",
      "tf_op_layer_ExpandDims_7 (Tenso [(None, 1, 16)]      0           embedding_7[0][0]                \n",
      "__________________________________________________________________________________________________\n",
      "embedding (Embedding)           (None, 16)           48          tf_op_layer_strided_slice[0][0]  \n",
      "__________________________________________________________________________________________________\n",
      "embedding_1 (Embedding)         (None, 16)           128         tf_op_layer_strided_slice_1[0][0]\n",
      "__________________________________________________________________________________________________\n",
      "embedding_2 (Embedding)         (None, 16)           352         tf_op_layer_strided_slice_2[0][0]\n",
      "__________________________________________________________________________________________________\n",
      "embedding_3 (Embedding)         (None, 16)           55040       tf_op_layer_strided_slice_3[0][0]\n",
      "__________________________________________________________________________________________________\n",
      "softmax (Softmax)               (None, 1, 3)         0           tf_op_layer_MatMul[0][0]         \n",
      "__________________________________________________________________________________________________\n",
      "qkv_2 (qkv)                     (None, 3, 16)        2048        hist_img[0][0]                   \n",
      "__________________________________________________________________________________________________\n",
      "embedding_4 (Embedding)         (None, 16)           3056        tf_op_layer_strided_slice_4[0][0]\n",
      "__________________________________________________________________________________________________\n",
      "add (Add)                       (None, 1, 16)        0           tf_op_layer_ExpandDims_5[0][0]   \n",
      "                                                                 tf_op_layer_ExpandDims_6[0][0]   \n",
      "                                                                 tf_op_layer_ExpandDims_7[0][0]   \n",
      "__________________________________________________________________________________________________\n",
      "tf_op_layer_ExpandDims (TensorF [(None, 1, 16)]      0           embedding[0][0]                  \n",
      "__________________________________________________________________________________________________\n",
      "tf_op_layer_ExpandDims_1 (Tenso [(None, 1, 16)]      0           embedding_1[0][0]                \n",
      "__________________________________________________________________________________________________\n",
      "tf_op_layer_ExpandDims_2 (Tenso [(None, 1, 16)]      0           embedding_2[0][0]                \n",
      "__________________________________________________________________________________________________\n",
      "tf_op_layer_ExpandDims_3 (Tenso [(None, 1, 16)]      0           embedding_3[0][0]                \n",
      "__________________________________________________________________________________________________\n",
      "tf_op_layer_MatMul_1 (TensorFlo [(None, 1, 16)]      0           softmax[0][0]                    \n",
      "                                                                 qkv_2[0][0]                      \n",
      "__________________________________________________________________________________________________\n",
      "tf_op_layer_ExpandDims_4 (Tenso [(None, 1, 16)]      0           embedding_4[0][0]                \n",
      "__________________________________________________________________________________________________\n",
      "tf_op_layer_truediv (TensorFlow [(None, 1, 16)]      0           add[0][0]                        \n",
      "__________________________________________________________________________________________________\n",
      "concatenate (Concatenate)       (None, 4, 16)        0           tf_op_layer_ExpandDims[0][0]     \n",
      "                                                                 tf_op_layer_ExpandDims_1[0][0]   \n",
      "                                                                 tf_op_layer_ExpandDims_2[0][0]   \n",
      "                                                                 tf_op_layer_ExpandDims_3[0][0]   \n",
      "__________________________________________________________________________________________________\n",
      "leaky_re_lu (LeakyReLU)         (None, 1, 16)        0           tf_op_layer_MatMul_1[0][0]       \n",
      "__________________________________________________________________________________________________\n",
      "concatenate_1 (Concatenate)     (None, 2, 16)        0           tf_op_layer_ExpandDims_4[0][0]   \n",
      "                                                                 tf_op_layer_truediv[0][0]        \n",
      "__________________________________________________________________________________________________\n",
      "dense_3 (Dense)                 (None, 1, 16)        2064        target_img[0][0]                 \n",
      "__________________________________________________________________________________________________\n",
      "concatenate_2 (Concatenate)     (None, 5, 16)        0           concatenate[0][0]                \n",
      "                                                                 leaky_re_lu[0][0]                \n",
      "__________________________________________________________________________________________________\n",
      "concatenate_8 (Concatenate)     (None, 3, 16)        0           concatenate_1[0][0]              \n",
      "                                                                 dense_3[0][0]                    \n",
      "__________________________________________________________________________________________________\n",
      "embed_net (embed_net)           (None, 5, 24)        384         concatenate_2[0][0]              \n",
      "__________________________________________________________________________________________________\n",
      "embed_net_4 (embed_net)         (None, 3, 24)        384         concatenate_8[0][0]              \n",
      "__________________________________________________________________________________________________\n",
      "reshape (Reshape)               (None, 1, 5, 24)     0           embed_net[0][0]                  \n",
      "__________________________________________________________________________________________________\n",
      "reshape_1 (Reshape)             (None, 1, 5, 24)     0           embed_net[0][0]                  \n",
      "__________________________________________________________________________________________________\n",
      "reshape_2 (Reshape)             (None, 1, 5, 24)     0           embed_net[0][0]                  \n",
      "__________________________________________________________________________________________________\n",
      "reshape_3 (Reshape)             (None, 1, 5, 24)     0           embed_net[0][0]                  \n",
      "__________________________________________________________________________________________________\n",
      "reshape_4 (Reshape)             (None, 1, 5, 24)     0           embed_net[0][0]                  \n",
      "__________________________________________________________________________________________________\n",
      "reshape_11 (Reshape)            (None, 1, 3, 24)     0           embed_net_4[0][0]                \n",
      "__________________________________________________________________________________________________\n",
      "reshape_12 (Reshape)            (None, 1, 3, 24)     0           embed_net_4[0][0]                \n",
      "__________________________________________________________________________________________________\n",
      "reshape_13 (Reshape)            (None, 1, 3, 24)     0           embed_net_4[0][0]                \n",
      "__________________________________________________________________________________________________\n",
      "concatenate_3 (Concatenate)     (None, 5, 5, 24)     0           reshape[0][0]                    \n",
      "                                                                 reshape_1[0][0]                  \n",
      "                                                                 reshape_2[0][0]                  \n",
      "                                                                 reshape_3[0][0]                  \n",
      "                                                                 reshape_4[0][0]                  \n",
      "__________________________________________________________________________________________________\n",
      "concatenate_9 (Concatenate)     (None, 3, 3, 24)     0           reshape_11[0][0]                 \n",
      "                                                                 reshape_12[0][0]                 \n",
      "                                                                 reshape_13[0][0]                 \n",
      "__________________________________________________________________________________________________\n",
      "afm (AFM)                       (None, 5, 5, 24)     600         concatenate_3[0][0]              \n",
      "__________________________________________________________________________________________________\n",
      "afm_1 (AFM)                     (None, 5, 5, 24)     600         concatenate_3[0][0]              \n",
      "__________________________________________________________________________________________________\n",
      "afm_6 (AFM)                     (None, 3, 3, 24)     216         concatenate_9[0][0]              \n",
      "__________________________________________________________________________________________________\n",
      "afm_7 (AFM)                     (None, 3, 3, 24)     216         concatenate_9[0][0]              \n",
      "__________________________________________________________________________________________________\n",
      "tf_op_layer_Sum (TensorFlowOpLa [(None, 5, 24)]      0           afm[0][0]                        \n",
      "__________________________________________________________________________________________________\n",
      "tf_op_layer_Sum_1 (TensorFlowOp [(None, 5, 24)]      0           afm_1[0][0]                      \n",
      "__________________________________________________________________________________________________\n",
      "tf_op_layer_Sum_6 (TensorFlowOp [(None, 3, 24)]      0           afm_6[0][0]                      \n",
      "__________________________________________________________________________________________________\n",
      "tf_op_layer_Sum_7 (TensorFlowOp [(None, 3, 24)]      0           afm_7[0][0]                      \n",
      "__________________________________________________________________________________________________\n",
      "reshape_5 (Reshape)             (None, 5, 24)        0           tf_op_layer_Sum[0][0]            \n",
      "__________________________________________________________________________________________________\n",
      "embed_net_1 (embed_net)         (None, 5, 24)        384         concatenate_2[0][0]              \n",
      "__________________________________________________________________________________________________\n",
      "reshape_6 (Reshape)             (None, 5, 24)        0           tf_op_layer_Sum_1[0][0]          \n",
      "__________________________________________________________________________________________________\n",
      "reshape_14 (Reshape)            (None, 3, 24)        0           tf_op_layer_Sum_6[0][0]          \n",
      "__________________________________________________________________________________________________\n",
      "embed_net_5 (embed_net)         (None, 3, 24)        384         concatenate_8[0][0]              \n",
      "__________________________________________________________________________________________________\n",
      "reshape_15 (Reshape)            (None, 3, 24)        0           tf_op_layer_Sum_7[0][0]          \n",
      "__________________________________________________________________________________________________\n",
      "tf_op_layer_Mul (TensorFlowOpLa [(None, 5, 24)]      0           reshape_5[0][0]                  \n",
      "                                                                 embed_net_1[0][0]                \n",
      "__________________________________________________________________________________________________\n",
      "tf_op_layer_Mul_1 (TensorFlowOp [(None, 5, 24)]      0           reshape_6[0][0]                  \n",
      "                                                                 embed_net_1[0][0]                \n",
      "__________________________________________________________________________________________________\n",
      "tf_op_layer_Mul_6 (TensorFlowOp [(None, 3, 24)]      0           reshape_14[0][0]                 \n",
      "                                                                 embed_net_5[0][0]                \n",
      "__________________________________________________________________________________________________\n",
      "tf_op_layer_Mul_7 (TensorFlowOp [(None, 3, 24)]      0           reshape_15[0][0]                 \n",
      "                                                                 embed_net_5[0][0]                \n",
      "__________________________________________________________________________________________________\n",
      "concatenate_4 (Concatenate)     (None, 5, 48)        0           tf_op_layer_Mul[0][0]            \n",
      "                                                                 tf_op_layer_Mul_1[0][0]          \n",
      "__________________________________________________________________________________________________\n",
      "concatenate_10 (Concatenate)    (None, 3, 48)        0           tf_op_layer_Mul_6[0][0]          \n",
      "                                                                 tf_op_layer_Mul_7[0][0]          \n",
      "__________________________________________________________________________________________________\n",
      "dense (Dense)                   (None, 5, 24)        1176        concatenate_4[0][0]              \n",
      "__________________________________________________________________________________________________\n",
      "afm_2 (AFM)                     (None, 5, 5, 24)     600         concatenate_3[0][0]              \n",
      "__________________________________________________________________________________________________\n",
      "afm_3 (AFM)                     (None, 5, 5, 24)     600         concatenate_3[0][0]              \n",
      "__________________________________________________________________________________________________\n",
      "dense_4 (Dense)                 (None, 3, 24)        1176        concatenate_10[0][0]             \n",
      "__________________________________________________________________________________________________\n",
      "afm_8 (AFM)                     (None, 3, 3, 24)     216         concatenate_9[0][0]              \n",
      "__________________________________________________________________________________________________\n",
      "afm_9 (AFM)                     (None, 3, 3, 24)     216         concatenate_9[0][0]              \n",
      "__________________________________________________________________________________________________\n",
      "leaky_re_lu_1 (LeakyReLU)       (None, 5, 24)        0           dense[0][0]                      \n",
      "__________________________________________________________________________________________________\n",
      "tf_op_layer_Sum_2 (TensorFlowOp [(None, 5, 24)]      0           afm_2[0][0]                      \n",
      "__________________________________________________________________________________________________\n",
      "tf_op_layer_Sum_3 (TensorFlowOp [(None, 5, 24)]      0           afm_3[0][0]                      \n",
      "__________________________________________________________________________________________________\n",
      "leaky_re_lu_4 (LeakyReLU)       (None, 3, 24)        0           dense_4[0][0]                    \n",
      "__________________________________________________________________________________________________\n",
      "tf_op_layer_Sum_8 (TensorFlowOp [(None, 3, 24)]      0           afm_8[0][0]                      \n",
      "__________________________________________________________________________________________________\n",
      "tf_op_layer_Sum_9 (TensorFlowOp [(None, 3, 24)]      0           afm_9[0][0]                      \n",
      "__________________________________________________________________________________________________\n",
      "reshape_7 (Reshape)             (None, 5, 24)        0           tf_op_layer_Sum_2[0][0]          \n",
      "__________________________________________________________________________________________________\n",
      "embed_net_2 (embed_net)         (None, 5, 24)        576         leaky_re_lu_1[0][0]              \n",
      "__________________________________________________________________________________________________\n",
      "reshape_8 (Reshape)             (None, 5, 24)        0           tf_op_layer_Sum_3[0][0]          \n",
      "__________________________________________________________________________________________________\n",
      "reshape_16 (Reshape)            (None, 3, 24)        0           tf_op_layer_Sum_8[0][0]          \n",
      "__________________________________________________________________________________________________\n",
      "embed_net_6 (embed_net)         (None, 3, 24)        576         leaky_re_lu_4[0][0]              \n",
      "__________________________________________________________________________________________________\n",
      "reshape_17 (Reshape)            (None, 3, 24)        0           tf_op_layer_Sum_9[0][0]          \n",
      "__________________________________________________________________________________________________\n",
      "tf_op_layer_Mul_2 (TensorFlowOp [(None, 5, 24)]      0           reshape_7[0][0]                  \n",
      "                                                                 embed_net_2[0][0]                \n",
      "__________________________________________________________________________________________________\n",
      "tf_op_layer_Mul_3 (TensorFlowOp [(None, 5, 24)]      0           reshape_8[0][0]                  \n",
      "                                                                 embed_net_2[0][0]                \n",
      "__________________________________________________________________________________________________\n",
      "tf_op_layer_Mul_8 (TensorFlowOp [(None, 3, 24)]      0           reshape_16[0][0]                 \n",
      "                                                                 embed_net_6[0][0]                \n",
      "__________________________________________________________________________________________________\n",
      "tf_op_layer_Mul_9 (TensorFlowOp [(None, 3, 24)]      0           reshape_17[0][0]                 \n",
      "                                                                 embed_net_6[0][0]                \n",
      "__________________________________________________________________________________________________\n",
      "concatenate_5 (Concatenate)     (None, 5, 48)        0           tf_op_layer_Mul_2[0][0]          \n",
      "                                                                 tf_op_layer_Mul_3[0][0]          \n",
      "__________________________________________________________________________________________________\n",
      "concatenate_11 (Concatenate)    (None, 3, 48)        0           tf_op_layer_Mul_8[0][0]          \n",
      "                                                                 tf_op_layer_Mul_9[0][0]          \n",
      "__________________________________________________________________________________________________\n",
      "dense_1 (Dense)                 (None, 5, 24)        1176        concatenate_5[0][0]              \n",
      "__________________________________________________________________________________________________\n",
      "afm_4 (AFM)                     (None, 5, 5, 24)     600         concatenate_3[0][0]              \n",
      "__________________________________________________________________________________________________\n",
      "afm_5 (AFM)                     (None, 5, 5, 24)     600         concatenate_3[0][0]              \n",
      "__________________________________________________________________________________________________\n",
      "dense_5 (Dense)                 (None, 3, 24)        1176        concatenate_11[0][0]             \n",
      "__________________________________________________________________________________________________\n",
      "afm_10 (AFM)                    (None, 3, 3, 24)     216         concatenate_9[0][0]              \n",
      "__________________________________________________________________________________________________\n",
      "afm_11 (AFM)                    (None, 3, 3, 24)     216         concatenate_9[0][0]              \n",
      "__________________________________________________________________________________________________\n",
      "leaky_re_lu_2 (LeakyReLU)       (None, 5, 24)        0           dense_1[0][0]                    \n",
      "__________________________________________________________________________________________________\n",
      "tf_op_layer_Sum_4 (TensorFlowOp [(None, 5, 24)]      0           afm_4[0][0]                      \n",
      "__________________________________________________________________________________________________\n",
      "tf_op_layer_Sum_5 (TensorFlowOp [(None, 5, 24)]      0           afm_5[0][0]                      \n",
      "__________________________________________________________________________________________________\n",
      "leaky_re_lu_5 (LeakyReLU)       (None, 3, 24)        0           dense_5[0][0]                    \n",
      "__________________________________________________________________________________________________\n",
      "tf_op_layer_Sum_10 (TensorFlowO [(None, 3, 24)]      0           afm_10[0][0]                     \n",
      "__________________________________________________________________________________________________\n",
      "tf_op_layer_Sum_11 (TensorFlowO [(None, 3, 24)]      0           afm_11[0][0]                     \n",
      "__________________________________________________________________________________________________\n",
      "reshape_9 (Reshape)             (None, 5, 24)        0           tf_op_layer_Sum_4[0][0]          \n",
      "__________________________________________________________________________________________________\n",
      "embed_net_3 (embed_net)         (None, 5, 24)        576         leaky_re_lu_2[0][0]              \n",
      "__________________________________________________________________________________________________\n",
      "reshape_10 (Reshape)            (None, 5, 24)        0           tf_op_layer_Sum_5[0][0]          \n",
      "__________________________________________________________________________________________________\n",
      "reshape_18 (Reshape)            (None, 3, 24)        0           tf_op_layer_Sum_10[0][0]         \n",
      "__________________________________________________________________________________________________\n",
      "embed_net_7 (embed_net)         (None, 3, 24)        576         leaky_re_lu_5[0][0]              \n",
      "__________________________________________________________________________________________________\n",
      "reshape_19 (Reshape)            (None, 3, 24)        0           tf_op_layer_Sum_11[0][0]         \n",
      "__________________________________________________________________________________________________\n",
      "tf_op_layer_Mul_4 (TensorFlowOp [(None, 5, 24)]      0           reshape_9[0][0]                  \n",
      "                                                                 embed_net_3[0][0]                \n",
      "__________________________________________________________________________________________________\n",
      "tf_op_layer_Mul_5 (TensorFlowOp [(None, 5, 24)]      0           reshape_10[0][0]                 \n",
      "                                                                 embed_net_3[0][0]                \n",
      "__________________________________________________________________________________________________\n",
      "tf_op_layer_Mul_10 (TensorFlowO [(None, 3, 24)]      0           reshape_18[0][0]                 \n",
      "                                                                 embed_net_7[0][0]                \n",
      "__________________________________________________________________________________________________\n",
      "tf_op_layer_Mul_11 (TensorFlowO [(None, 3, 24)]      0           reshape_19[0][0]                 \n",
      "                                                                 embed_net_7[0][0]                \n",
      "__________________________________________________________________________________________________\n",
      "concatenate_6 (Concatenate)     (None, 5, 48)        0           tf_op_layer_Mul_4[0][0]          \n",
      "                                                                 tf_op_layer_Mul_5[0][0]          \n",
      "__________________________________________________________________________________________________\n",
      "concatenate_12 (Concatenate)    (None, 3, 48)        0           tf_op_layer_Mul_10[0][0]         \n",
      "                                                                 tf_op_layer_Mul_11[0][0]         \n",
      "__________________________________________________________________________________________________\n",
      "dense_2 (Dense)                 (None, 5, 24)        1176        concatenate_6[0][0]              \n",
      "__________________________________________________________________________________________________\n",
      "dense_6 (Dense)                 (None, 3, 24)        1176        concatenate_12[0][0]             \n",
      "__________________________________________________________________________________________________\n",
      "leaky_re_lu_3 (LeakyReLU)       (None, 5, 24)        0           dense_2[0][0]                    \n",
      "__________________________________________________________________________________________________\n",
      "leaky_re_lu_6 (LeakyReLU)       (None, 3, 24)        0           dense_6[0][0]                    \n",
      "__________________________________________________________________________________________________\n",
      "concatenate_7 (Concatenate)     (None, 15, 24)       0           leaky_re_lu_1[0][0]              \n",
      "                                                                 leaky_re_lu_2[0][0]              \n",
      "                                                                 leaky_re_lu_3[0][0]              \n",
      "__________________________________________________________________________________________________\n",
      "concatenate_13 (Concatenate)    (None, 9, 24)        0           leaky_re_lu_4[0][0]              \n",
      "                                                                 leaky_re_lu_5[0][0]              \n",
      "                                                                 leaky_re_lu_6[0][0]              \n",
      "__________________________________________________________________________________________________\n",
      "concatenate_14 (Concatenate)    (None, 24, 24)       0           concatenate_7[0][0]              \n",
      "                                                                 concatenate_13[0][0]             \n",
      "__________________________________________________________________________________________________\n",
      "flatten (Flatten)               (None, 576)          0           concatenate_14[0][0]             \n",
      "__________________________________________________________________________________________________\n",
      "dense_7 (Dense)                 (None, 384)          221568      flatten[0][0]                    \n",
      "__________________________________________________________________________________________________\n",
      "leaky_re_lu_7 (LeakyReLU)       (None, 384)          0           dense_7[0][0]                    \n",
      "__________________________________________________________________________________________________\n",
      "dense_8 (Dense)                 (None, 1)            385         leaky_re_lu_7[0][0]              \n",
      "==================================================================================================\n",
      "Total params: 305,457\n",
      "Trainable params: 305,457\n",
      "Non-trainable params: 0\n",
      "__________________________________________________________________________________________________\n"
     ]
    }
   ],
   "source": [
    "model.summary()"
   ]
  },
  {
   "cell_type": "code",
   "execution_count": 41,
   "id": "58da3f3a",
   "metadata": {},
   "outputs": [
    {
     "data": {
      "text/plain": [
       "(723783, 4)"
      ]
     },
     "execution_count": 41,
     "metadata": {},
     "output_type": "execute_result"
    }
   ],
   "source": [
    "#处理用户侧数据集\n",
    "u_input=np.asarray([total_data[f].values for f in user_feats])\n",
    "u_input=np.transpose(u_input,(1,0))\n",
    "u_input.shape"
   ]
  },
  {
   "cell_type": "code",
   "execution_count": 42,
   "id": "61f28f7c",
   "metadata": {},
   "outputs": [
    {
     "data": {
      "text/plain": [
       "(723783, 4)"
      ]
     },
     "execution_count": 42,
     "metadata": {},
     "output_type": "execute_result"
    }
   ],
   "source": [
    "#处理物品侧数据集\n",
    "i_input=np.asarray([total_data[f].values for f in item_feats])\n",
    "i_input=np.transpose(i_input,(1,0))\n",
    "i_input.shape"
   ]
  },
  {
   "cell_type": "code",
   "execution_count": 43,
   "id": "67c83776",
   "metadata": {},
   "outputs": [],
   "source": [
    "#用户历史图像与目标物品图像\n",
    "h_input=hist_array\n",
    "t_input=target_array"
   ]
  },
  {
   "cell_type": "code",
   "execution_count": 44,
   "id": "93bd1fda",
   "metadata": {},
   "outputs": [
    {
     "data": {
      "text/plain": [
       "(723783, 1, 128)"
      ]
     },
     "execution_count": 44,
     "metadata": {},
     "output_type": "execute_result"
    }
   ],
   "source": [
    "t_input.shape"
   ]
  },
  {
   "cell_type": "code",
   "execution_count": 45,
   "id": "41993a45",
   "metadata": {},
   "outputs": [],
   "source": [
    "from sklearn.model_selection import train_test_split"
   ]
  },
  {
   "cell_type": "code",
   "execution_count": 46,
   "id": "476329ee",
   "metadata": {},
   "outputs": [],
   "source": [
    "#分割训练集与测试集\n",
    "#split = train_test_split(u_input,i_input,h_input,t_input,total_data['Rating'].values,test_size=0.25, random_state=42)\n",
    "split = train_test_split(u_input,i_input,h_input,t_input,total_data['Rating'].values,test_size=0.25)"
   ]
  },
  {
   "cell_type": "code",
   "execution_count": 47,
   "id": "da718790",
   "metadata": {},
   "outputs": [],
   "source": [
    "(Tu_input,Vu_input,Ti_input,Vi_input,Th_input,Vh_input,Tt_input,Vt_input,train_label,val_label) = split"
   ]
  },
  {
   "cell_type": "code",
   "execution_count": 48,
   "id": "1b8bb728",
   "metadata": {},
   "outputs": [
    {
     "data": {
      "text/plain": [
       "(180946, 1, 128)"
      ]
     },
     "execution_count": 48,
     "metadata": {},
     "output_type": "execute_result"
    }
   ],
   "source": [
    "Tu_input.shape\n",
    "Vu_input.shape\n",
    "Ti_input.shape\n",
    "Vi_input.shape\n",
    "Th_input.shape\n",
    "Vh_input.shape\n",
    "Tt_input.shape\n",
    "Vt_input.shape"
   ]
  },
  {
   "cell_type": "code",
   "execution_count": 49,
   "id": "c4718bb9",
   "metadata": {},
   "outputs": [
    {
     "name": "stdout",
     "output_type": "stream",
     "text": [
      "WARNING:tensorflow:`write_grads` will be ignored in TensorFlow 2.0 for the `TensorBoard` Callback.\n"
     ]
    }
   ],
   "source": [
    "tbCallBack = TensorBoard(log_dir= 'logs',  # log 目录\n",
    "                 histogram_freq=0, \n",
    "                 write_graph=True,  \n",
    "                 write_grads=True,\n",
    "                 write_images=True,\n",
    "                 embeddings_freq=0, \n",
    "                 embeddings_layer_names=None, \n",
    "                 embeddings_metadata=None)"
   ]
  },
  {
   "cell_type": "code",
   "execution_count": 50,
   "id": "f4666a71",
   "metadata": {},
   "outputs": [],
   "source": [
    "#设置损失和评价指标\n",
    "optimizer=tf.keras.optimizers.Adam(learning_rate=0.01)\n",
    "model.compile(optimizer=optimizer, \n",
    "              loss=\"binary_crossentropy\", \n",
    "              metrics=[\"binary_crossentropy\", tf.keras.metrics.AUC(name='auc')])"
   ]
  },
  {
   "cell_type": "code",
   "execution_count": 51,
   "id": "c623ae09",
   "metadata": {},
   "outputs": [
    {
     "name": "stdout",
     "output_type": "stream",
     "text": [
      "Train on 542837 samples, validate on 180946 samples\n",
      "WARNING:tensorflow:Model failed to serialize as JSON. Ignoring... Layers with arguments in `__init__` must override `get_config`.\n",
      "Epoch 1/30\n"
     ]
    },
    {
     "name": "stderr",
     "output_type": "stream",
     "text": [
      "D:\\anaconda\\envs\\py37\\lib\\site-packages\\tensorflow_core\\python\\framework\\indexed_slices.py:424: UserWarning: Converting sparse IndexedSlices to a dense Tensor of unknown shape. This may consume a large amount of memory.\n",
      "  \"Converting sparse IndexedSlices to a dense Tensor of unknown shape. \"\n",
      "D:\\anaconda\\envs\\py37\\lib\\site-packages\\tensorflow_core\\python\\framework\\indexed_slices.py:424: UserWarning: Converting sparse IndexedSlices to a dense Tensor of unknown shape. This may consume a large amount of memory.\n",
      "  \"Converting sparse IndexedSlices to a dense Tensor of unknown shape. \"\n"
     ]
    },
    {
     "name": "stdout",
     "output_type": "stream",
     "text": [
      "542837/542837 [==============================] - 11s 20us/sample - loss: 0.4746 - binary_crossentropy: 0.4662 - auc: 0.7192 - val_loss: 0.4154 - val_binary_crossentropy: 0.4001 - val_auc: 0.8216\n",
      "Epoch 2/30\n",
      "542837/542837 [==============================] - 7s 12us/sample - loss: 0.3945 - binary_crossentropy: 0.3805 - auc: 0.8380 - val_loss: 0.3909 - val_binary_crossentropy: 0.3777 - val_auc: 0.8435\n",
      "Epoch 3/30\n",
      "542837/542837 [==============================] - 6s 12us/sample - loss: 0.3805 - binary_crossentropy: 0.3671 - auc: 0.8505 - val_loss: 0.3812 - val_binary_crossentropy: 0.3682 - val_auc: 0.8516\n",
      "Epoch 4/30\n",
      "542837/542837 [==============================] - 6s 12us/sample - loss: 0.3722 - binary_crossentropy: 0.3584 - auc: 0.8585 - val_loss: 0.3775 - val_binary_crossentropy: 0.3630 - val_auc: 0.8567\n",
      "Epoch 5/30\n",
      "542837/542837 [==============================] - 7s 12us/sample - loss: 0.3681 - binary_crossentropy: 0.3531 - auc: 0.8632 - val_loss: 0.3749 - val_binary_crossentropy: 0.3602 - val_auc: 0.8600\n",
      "Epoch 6/30\n",
      "542837/542837 [==============================] - 7s 12us/sample - loss: 0.3642 - binary_crossentropy: 0.3495 - auc: 0.8663 - val_loss: 0.3719 - val_binary_crossentropy: 0.3576 - val_auc: 0.8629\n",
      "Epoch 7/30\n",
      "542837/542837 [==============================] - 7s 12us/sample - loss: 0.3617 - binary_crossentropy: 0.3472 - auc: 0.8683 - val_loss: 0.3784 - val_binary_crossentropy: 0.3642 - val_auc: 0.8639\n",
      "Epoch 8/30\n",
      "542837/542837 [==============================] - 7s 13us/sample - loss: 0.3590 - binary_crossentropy: 0.3447 - auc: 0.8705 - val_loss: 0.3669 - val_binary_crossentropy: 0.3528 - val_auc: 0.8654\n",
      "Epoch 9/30\n",
      "542837/542837 [==============================] - 7s 13us/sample - loss: 0.3576 - binary_crossentropy: 0.3433 - auc: 0.8718 - val_loss: 0.3653 - val_binary_crossentropy: 0.3511 - val_auc: 0.8665\n",
      "Epoch 10/30\n",
      "542837/542837 [==============================] - 7s 13us/sample - loss: 0.3569 - binary_crossentropy: 0.3425 - auc: 0.8725 - val_loss: 0.3660 - val_binary_crossentropy: 0.3517 - val_auc: 0.8665\n",
      "Epoch 11/30\n",
      "542837/542837 [==============================] - 7s 13us/sample - loss: 0.3547 - binary_crossentropy: 0.3404 - auc: 0.8742 - val_loss: 0.3638 - val_binary_crossentropy: 0.3497 - val_auc: 0.8683\n",
      "Epoch 12/30\n",
      "542837/542837 [==============================] - 7s 13us/sample - loss: 0.3536 - binary_crossentropy: 0.3391 - auc: 0.8754 - val_loss: 0.3623 - val_binary_crossentropy: 0.3481 - val_auc: 0.8698\n",
      "Epoch 13/30\n",
      "542837/542837 [==============================] - 7s 13us/sample - loss: 0.3528 - binary_crossentropy: 0.3380 - auc: 0.8763 - val_loss: 0.3629 - val_binary_crossentropy: 0.3481 - val_auc: 0.8705\n",
      "Epoch 14/30\n",
      "542837/542837 [==============================] - 7s 13us/sample - loss: 0.3513 - binary_crossentropy: 0.3360 - auc: 0.8782 - val_loss: 0.3604 - val_binary_crossentropy: 0.3450 - val_auc: 0.8724\n",
      "Epoch 15/30\n",
      "542837/542837 [==============================] - 7s 13us/sample - loss: 0.3506 - binary_crossentropy: 0.3347 - auc: 0.8792 - val_loss: 0.3660 - val_binary_crossentropy: 0.3502 - val_auc: 0.8709\n",
      "Epoch 16/30\n",
      "542837/542837 [==============================] - 7s 13us/sample - loss: 0.3499 - binary_crossentropy: 0.3336 - auc: 0.8801 - val_loss: 0.3606 - val_binary_crossentropy: 0.3445 - val_auc: 0.8729\n",
      "Epoch 17/30\n",
      "542837/542837 [==============================] - 7s 13us/sample - loss: 0.3482 - binary_crossentropy: 0.3319 - auc: 0.8816 - val_loss: 0.3601 - val_binary_crossentropy: 0.3440 - val_auc: 0.8742\n",
      "Epoch 18/30\n",
      "542837/542837 [==============================] - 7s 13us/sample - loss: 0.3471 - binary_crossentropy: 0.3307 - auc: 0.8824 - val_loss: 0.3598 - val_binary_crossentropy: 0.3439 - val_auc: 0.8733\n",
      "Epoch 19/30\n",
      "542837/542837 [==============================] - 7s 13us/sample - loss: 0.3458 - binary_crossentropy: 0.3297 - auc: 0.8834 - val_loss: 0.3589 - val_binary_crossentropy: 0.3431 - val_auc: 0.8751\n",
      "Epoch 20/30\n",
      "542837/542837 [==============================] - 7s 13us/sample - loss: 0.3447 - binary_crossentropy: 0.3285 - auc: 0.8844 - val_loss: 0.3574 - val_binary_crossentropy: 0.3413 - val_auc: 0.8757\n",
      "Epoch 21/30\n",
      "542837/542837 [==============================] - 7s 13us/sample - loss: 0.3435 - binary_crossentropy: 0.3271 - auc: 0.8853 - val_loss: 0.3586 - val_binary_crossentropy: 0.3424 - val_auc: 0.8747\n",
      "Epoch 22/30\n",
      "542837/542837 [==============================] - 7s 13us/sample - loss: 0.3441 - binary_crossentropy: 0.3274 - auc: 0.8853 - val_loss: 0.3581 - val_binary_crossentropy: 0.3415 - val_auc: 0.8766\n",
      "Epoch 23/30\n",
      "542837/542837 [==============================] - 7s 13us/sample - loss: 0.3426 - binary_crossentropy: 0.3256 - auc: 0.8867 - val_loss: 0.3606 - val_binary_crossentropy: 0.3440 - val_auc: 0.8774\n",
      "Epoch 24/30\n",
      "542837/542837 [==============================] - 7s 13us/sample - loss: 0.3419 - binary_crossentropy: 0.3248 - auc: 0.8874 - val_loss: 0.3555 - val_binary_crossentropy: 0.3387 - val_auc: 0.8780\n",
      "Epoch 25/30\n",
      "542837/542837 [==============================] - 7s 13us/sample - loss: 0.3410 - binary_crossentropy: 0.3239 - auc: 0.8882 - val_loss: 0.3564 - val_binary_crossentropy: 0.3395 - val_auc: 0.8779\n",
      "Epoch 26/30\n",
      "542837/542837 [==============================] - 7s 13us/sample - loss: 0.3401 - binary_crossentropy: 0.3227 - auc: 0.8889 - val_loss: 0.3559 - val_binary_crossentropy: 0.3391 - val_auc: 0.8788\n",
      "Epoch 27/30\n",
      "542837/542837 [==============================] - 7s 13us/sample - loss: 0.3394 - binary_crossentropy: 0.3221 - auc: 0.8893 - val_loss: 0.3537 - val_binary_crossentropy: 0.3369 - val_auc: 0.8794\n",
      "Epoch 28/30\n",
      "542837/542837 [==============================] - 7s 13us/sample - loss: 0.3379 - binary_crossentropy: 0.3207 - auc: 0.8904 - val_loss: 0.3541 - val_binary_crossentropy: 0.3371 - val_auc: 0.8795\n",
      "Epoch 29/30\n",
      "542837/542837 [==============================] - 7s 13us/sample - loss: 0.3371 - binary_crossentropy: 0.3198 - auc: 0.8912 - val_loss: 0.3540 - val_binary_crossentropy: 0.3372 - val_auc: 0.8802\n",
      "Epoch 30/30\n",
      "542837/542837 [==============================] - 7s 13us/sample - loss: 0.3369 - binary_crossentropy: 0.3194 - auc: 0.8917 - val_loss: 0.3537 - val_binary_crossentropy: 0.3366 - val_auc: 0.8802\n"
     ]
    },
    {
     "data": {
      "text/plain": [
       "<tensorflow.python.keras.callbacks.History at 0x26968000a88>"
      ]
     },
     "execution_count": 51,
     "metadata": {},
     "output_type": "execute_result"
    }
   ],
   "source": [
    "#训练\n",
    "model.fit([Tu_input,Ti_input,Th_input,Tt_input], \n",
    "          train_label, epochs=30, batch_size=8192,\n",
    "          validation_data=([Vu_input,Vi_input,Vh_input,Vt_input], val_label), \n",
    "          callbacks=[tbCallBack])"
   ]
  },
  {
   "cell_type": "code",
   "execution_count": 52,
   "id": "307b24e6",
   "metadata": {},
   "outputs": [],
   "source": [
    "#降低学习率再来\n",
    "optimizer=tf.keras.optimizers.Adam(learning_rate=0.001)\n",
    "model.compile(optimizer=optimizer, \n",
    "              loss=\"binary_crossentropy\", \n",
    "              metrics=[\"binary_crossentropy\", tf.keras.metrics.AUC(name='auc')])"
   ]
  },
  {
   "cell_type": "code",
   "execution_count": null,
   "id": "4b2dd10d",
   "metadata": {},
   "outputs": [
    {
     "name": "stdout",
     "output_type": "stream",
     "text": [
      "Train on 542837 samples, validate on 180946 samples\n",
      "WARNING:tensorflow:Model failed to serialize as JSON. Ignoring... Layers with arguments in `__init__` must override `get_config`.\n",
      "Epoch 1/10\n"
     ]
    },
    {
     "name": "stderr",
     "output_type": "stream",
     "text": [
      "D:\\anaconda\\envs\\py37\\lib\\site-packages\\tensorflow_core\\python\\framework\\indexed_slices.py:424: UserWarning: Converting sparse IndexedSlices to a dense Tensor of unknown shape. This may consume a large amount of memory.\n",
      "  \"Converting sparse IndexedSlices to a dense Tensor of unknown shape. \"\n",
      "D:\\anaconda\\envs\\py37\\lib\\site-packages\\tensorflow_core\\python\\framework\\indexed_slices.py:424: UserWarning: Converting sparse IndexedSlices to a dense Tensor of unknown shape. This may consume a large amount of memory.\n",
      "  \"Converting sparse IndexedSlices to a dense Tensor of unknown shape. \"\n"
     ]
    },
    {
     "name": "stdout",
     "output_type": "stream",
     "text": [
      "542837/542837 [==============================] - 13s 24us/sample - loss: 0.3133 - binary_crossentropy: 0.2977 - auc: 0.9077 - val_loss: 0.3402 - val_binary_crossentropy: 0.3256 - val_auc: 0.8889\n",
      "Epoch 2/10\n",
      "542837/542837 [==============================] - 7s 13us/sample - loss: 0.3030 - binary_crossentropy: 0.2890 - auc: 0.9136 - val_loss: 0.3377 - val_binary_crossentropy: 0.3243 - val_auc: 0.8905\n",
      "Epoch 3/10\n",
      "542837/542837 [==============================] - 7s 13us/sample - loss: 0.2987 - binary_crossentropy: 0.2856 - auc: 0.9159 - val_loss: 0.3367 - val_binary_crossentropy: 0.3240 - val_auc: 0.8908\n",
      "Epoch 4/10\n",
      "172032/542837 [========>.....................] - ETA: 4s - loss: 0.2939 - binary_crossentropy: 0.2813 - auc: 0.9191"
     ]
    }
   ],
   "source": [
    "model.fit([Tu_input,Ti_input,Th_input,Tt_input], \n",
    "          train_label, epochs=10, batch_size=8192,\n",
    "          validation_data=([Vu_input,Vi_input,Vh_input,Vt_input], val_label), \n",
    "          callbacks=[tbCallBack])"
   ]
  },
  {
   "cell_type": "code",
   "execution_count": null,
   "id": "50ff5b1d",
   "metadata": {},
   "outputs": [],
   "source": [
    "optimizer=tf.keras.optimizers.Adam(learning_rate=0.0001)\n",
    "model.compile(optimizer=optimizer, \n",
    "              loss=\"binary_crossentropy\", \n",
    "              metrics=[\"binary_crossentropy\", tf.keras.metrics.AUC(name='auc')])"
   ]
  },
  {
   "cell_type": "code",
   "execution_count": null,
   "id": "10c2b182",
   "metadata": {},
   "outputs": [],
   "source": [
    "model.fit([Tu_input,Ti_input,Th_input,Tt_input], \n",
    "          train_label, epochs=30, batch_size=8192,\n",
    "          validation_data=([Vu_input,Vi_input,Vh_input,Vt_input], val_label), \n",
    "          callbacks=[tbCallBack])"
   ]
  },
  {
   "cell_type": "code",
   "execution_count": null,
   "id": "3a3b839c",
   "metadata": {},
   "outputs": [],
   "source": []
  },
  {
   "cell_type": "code",
   "execution_count": null,
   "id": "99d2c147",
   "metadata": {},
   "outputs": [],
   "source": [
    "Vu_input=Vu_input.astype(np.float32)\n",
    "Vi_input=Vi_input.astype(np.float32)"
   ]
  },
  {
   "cell_type": "code",
   "execution_count": null,
   "id": "dac2e1ac",
   "metadata": {},
   "outputs": [],
   "source": [
    "#模型预测\n",
    "prediction_result = model.predict([Vu_input,Vi_input,Vh_input,Vt_input])"
   ]
  },
  {
   "cell_type": "code",
   "execution_count": null,
   "id": "91172f4d",
   "metadata": {},
   "outputs": [],
   "source": [
    "prediction_result"
   ]
  },
  {
   "cell_type": "code",
   "execution_count": null,
   "id": "792320bf",
   "metadata": {},
   "outputs": [],
   "source": [
    "from tensorflow.keras.models import Model\n",
    "from tensorflow.keras.utils import plot_model\n",
    "plot_model(model, \"BaseModel.png\")"
   ]
  },
  {
   "cell_type": "code",
   "execution_count": null,
   "id": "1625eeed",
   "metadata": {},
   "outputs": [],
   "source": []
  },
  {
   "cell_type": "code",
   "execution_count": null,
   "id": "f5d88037",
   "metadata": {},
   "outputs": [],
   "source": []
  },
  {
   "cell_type": "code",
   "execution_count": null,
   "id": "eb7a649d",
   "metadata": {},
   "outputs": [],
   "source": []
  },
  {
   "cell_type": "code",
   "execution_count": null,
   "id": "129005f7",
   "metadata": {},
   "outputs": [],
   "source": []
  }
 ],
 "metadata": {
  "kernelspec": {
   "display_name": "Python [conda env:TF_2G] *",
   "language": "python",
   "name": "conda-env-TF_2G-py"
  },
  "language_info": {
   "codemirror_mode": {
    "name": "ipython",
    "version": 3
   },
   "file_extension": ".py",
   "mimetype": "text/x-python",
   "name": "python",
   "nbconvert_exporter": "python",
   "pygments_lexer": "ipython3",
   "version": "3.7.11"
  }
 },
 "nbformat": 4,
 "nbformat_minor": 5
}
